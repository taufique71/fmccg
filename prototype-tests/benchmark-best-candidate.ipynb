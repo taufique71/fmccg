{
 "cells": [
  {
   "cell_type": "code",
   "execution_count": 1,
   "id": "1668ea10",
   "metadata": {},
   "outputs": [
    {
     "name": "stdout",
     "output_type": "stream",
     "text": [
      "Note: to be able to use all crisp methods, you need to install some additional packages:  {'karateclub', 'wurlitzer', 'graph_tool'}\n",
      "Note: to be able to use all overlapping methods, you need to install some additional packages:  {'karateclub', 'ASLPAw'}\n",
      "Note: to be able to use all bipartite methods, you need to install some additional packages:  {'wurlitzer'}\n"
     ]
    }
   ],
   "source": [
    "import networkx as nx\n",
    "import networkx.algorithms.community as nx_comm\n",
    "from networkx.generators.community import LFR_benchmark_graph\n",
    "from networkx.algorithms import bipartite\n",
    "import numpy as np\n",
    "import scipy as sp\n",
    "from scipy import sparse\n",
    "from cdlib import algorithms\n",
    "from cdlib import evaluation\n",
    "from utils import *\n",
    "from distances import *\n",
    "from consensus import *\n",
    "import math\n",
    "import sklearn"
   ]
  },
  {
   "cell_type": "code",
   "execution_count": 15,
   "id": "29274be6",
   "metadata": {},
   "outputs": [],
   "source": [
    "import sys\n",
    "\n",
    "def best_candidate_consensus(P_list, distance=split_joint_distance):\n",
    "    k = len(P_list)\n",
    "    n = 0\n",
    "    best_candidate = None\n",
    "    best_dist_total = 1000000000.0\n",
    "    for i in range(k):\n",
    "        dist = []\n",
    "        for j in range(k):\n",
    "            d = distance(P_list[i][\"partition\"], P_list[j][\"partition\"])\n",
    "            #print(\"[best_candidate_consensus]\", len(P_list[i][\"partition\"]), len(P_list[j][\"partition\"]), d)\n",
    "            dist.append(d)\n",
    "        dist = np.array(dist)\n",
    "        dist_total = np.sum(dist)\n",
    "        dist_mean = np.mean(dist)\n",
    "        dist_std = np.std(dist)\n",
    "        dist_med = np.median(dist)\n",
    "        #print(\"[best_candidate_consensus]\", dist_total)\n",
    "        if dist_total < best_dist_total:\n",
    "            #print(\"[best_candidate_consensus] Updating best candidate\", dist_total)\n",
    "            best_candidate = P_list[i][\"partition\"]\n",
    "            best_dist_total = dist_total\n",
    "    P_star = { \"graph\": None, \"partition\": list(best_candidate)}\n",
    "    return P_star"
   ]
  },
  {
   "cell_type": "code",
   "execution_count": 17,
   "id": "a80e8993",
   "metadata": {},
   "outputs": [
    {
     "name": "stdout",
     "output_type": "stream",
     "text": [
      "LFR/n1000/LFR_n1000_mu01_gamma30_beta11.mtx\n",
      "BEST CANDIDATE: split_joint_distance 38\n",
      "BEST CANDIDATE: mirkin_distance 38\n",
      "BEST CANDIDATE: variation_of_info_distance 38\n",
      "LFR/n1000/LFR_n1000_mu02_gamma30_beta11.mtx\n",
      "BEST CANDIDATE: split_joint_distance 38\n",
      "BEST CANDIDATE: mirkin_distance 36\n",
      "BEST CANDIDATE: variation_of_info_distance 38\n",
      "LFR/n1000/LFR_n1000_mu03_gamma30_beta11.mtx\n",
      "BEST CANDIDATE: split_joint_distance 38\n",
      "BEST CANDIDATE: mirkin_distance 38\n",
      "BEST CANDIDATE: variation_of_info_distance 38\n",
      "LFR/n1000/LFR_n1000_mu04_gamma30_beta11.mtx\n",
      "BEST CANDIDATE: split_joint_distance 35\n",
      "BEST CANDIDATE: mirkin_distance 35\n",
      "BEST CANDIDATE: variation_of_info_distance 35\n",
      "LFR/n1000/LFR_n1000_mu05_gamma30_beta11.mtx\n",
      "BEST CANDIDATE: split_joint_distance 1\n",
      "BEST CANDIDATE: mirkin_distance 16\n",
      "BEST CANDIDATE: variation_of_info_distance 1\n",
      "LFR/n1000/LFR_n1000_mu06_gamma30_beta11.mtx\n",
      "BEST CANDIDATE: split_joint_distance 1\n",
      "BEST CANDIDATE: mirkin_distance 992\n",
      "BEST CANDIDATE: variation_of_info_distance 1\n",
      "LFR/n1000/LFR_n1000_mu07_gamma30_beta11.mtx\n",
      "BEST CANDIDATE: split_joint_distance 1\n",
      "BEST CANDIDATE: mirkin_distance 984\n",
      "BEST CANDIDATE: variation_of_info_distance 1\n",
      "LFR/n1000/LFR_n1000_mu08_gamma30_beta11.mtx\n",
      "BEST CANDIDATE: split_joint_distance 1\n",
      "BEST CANDIDATE: mirkin_distance 982\n",
      "BEST CANDIDATE: variation_of_info_distance 1\n",
      "LFR/n1000/LFR_n1000_mu09_gamma30_beta11.mtx\n",
      "BEST CANDIDATE: split_joint_distance 1\n",
      "BEST CANDIDATE: mirkin_distance 980\n",
      "BEST CANDIDATE: variation_of_info_distance 1\n"
     ]
    }
   ],
   "source": [
    "import networkx as nx\n",
    "import networkx.algorithms.community as nx_comm\n",
    "from networkx.generators.community import LFR_benchmark_graph\n",
    "from networkx.algorithms import bipartite\n",
    "import numpy as np\n",
    "import scipy as sp\n",
    "from scipy import sparse\n",
    "\n",
    "algs = [\"infomap\", \"louvain\", \"leiden\", \"cnm\", \"label-prop\", \"markov\", \"walktrap\", \"spinglass\"]\n",
    "distance_metrics = [\"split_joint_distance\", \"mirkin_distance\", \"variation_of_info_distance\"]\n",
    "n = 1000\n",
    "fileprefix = \"LFR/\" + \"n\" + str(n) + \"/\"\n",
    "mus = [1, 2, 3, 4, 5, 6, 7, 8, 9]\n",
    "#mus = [2]\n",
    "gammas = [30]\n",
    "betas = [11]\n",
    "for mu in mus:\n",
    "    for gamma in gammas:\n",
    "        for beta in betas:\n",
    "            P_list = []\n",
    "            fname = \"LFR_n\" + str(n) + \"_mu0\" + str(mu) + \"_gamma\" + str(gamma) + \"_beta\" + str(beta)\n",
    "            graph_file = fileprefix + fname + \".mtx\"\n",
    "            print(graph_file)\n",
    "            G = None\n",
    "            with open(graph_file) as f:\n",
    "                G = nx.from_scipy_sparse_matrix(spio.mmread(f), create_using=nx.Graph)\n",
    "                for alg in algs:\n",
    "                    clust_file = fileprefix + fname + \".\" + alg\n",
    "                    partition = read_clust_lst(clust_file)\n",
    "                    P_list.append({\"graph\": nx.Graph(G), \"partition\": list(partition)})\n",
    "                for distance_metric in distance_metrics:\n",
    "                    P_star_best_candidate = None\n",
    "                    if distance_metric == \"split_joint_distance\":\n",
    "                        P_star_best_candidate = best_candidate_consensus(P_list, split_joint_distance)\n",
    "                    elif distance_metric == \"variation_of_info_distance\":\n",
    "                        P_star_best_candidate = best_candidate_consensus(P_list, variation_of_info_distance)\n",
    "                    elif distance_metric == \"mirkin_distance\":\n",
    "                        P_star_best_candidate = best_candidate_consensus(P_list, mirkin_distance)\n",
    "                    print(\"BEST CANDIDATE:\", distance_metric, len(P_star_best_candidate[\"partition\"]))\n",
    "                    write_clust_lst(P_star_best_candidate[\"partition\"], fileprefix + fname + \".best_candidate.\" + distance_metric)"
   ]
  },
  {
   "cell_type": "code",
   "execution_count": null,
   "id": "e899f67e",
   "metadata": {},
   "outputs": [],
   "source": []
  }
 ],
 "metadata": {
  "kernelspec": {
   "display_name": "Python 3 (ipykernel)",
   "language": "python",
   "name": "python3"
  },
  "language_info": {
   "codemirror_mode": {
    "name": "ipython",
    "version": 3
   },
   "file_extension": ".py",
   "mimetype": "text/x-python",
   "name": "python",
   "nbconvert_exporter": "python",
   "pygments_lexer": "ipython3",
   "version": "3.10.6"
  }
 },
 "nbformat": 4,
 "nbformat_minor": 5
}
