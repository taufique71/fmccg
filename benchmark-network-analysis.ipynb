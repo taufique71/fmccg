{
 "cells": [
  {
   "cell_type": "markdown",
   "id": "e3b6a3b4",
   "metadata": {},
   "source": [
    "# Benchmark network analysis"
   ]
  },
  {
   "cell_type": "code",
   "execution_count": null,
   "id": "e74a874c",
   "metadata": {},
   "outputs": [],
   "source": [
    "import networkx as nx\n",
    "import networkx.algorithms.community as nx_comm\n",
    "from networkx.generators.community import LFR_benchmark_graph\n",
    "from networkx.algorithms import bipartite\n",
    "import numpy as np\n",
    "import scipy as sp\n",
    "from scipy import sparse\n",
    "from cdlib import algorithms\n",
    "from cdlib import evaluation\n",
    "from utils import *\n",
    "#from distances import *\n",
    "#from consensus import *\n",
    "import math"
   ]
  },
  {
   "cell_type": "markdown",
   "id": "45fb6d70",
   "metadata": {},
   "source": [
    "## Generate benchmark graphs\n",
    "\n",
    "- https://arxiv.org/pdf/0805.4770.pdf\n",
    "- https://networkx.org/documentation/stable/reference/generated/networkx.generators.community.LFR_benchmark_graph.html\n",
    "- https://stackoverflow.com/questions/53608425/how-tune-lfr-benchmark-graph-method-in-networkx-for-generating-large-graph"
   ]
  },
  {
   "cell_type": "code",
   "execution_count": null,
   "id": "63cad7f5",
   "metadata": {},
   "outputs": [],
   "source": [
    "n = 1000\n",
    "fileprefix = \"LFR/\" + \"n\" + str(n) + \"/\"\n",
    "mus = [1, 2, 3, 4, 5, 6, 7, 8, 9]\n",
    "gammas = [30]\n",
    "betas = [11]\n",
    "for mu in mus:\n",
    "    for gamma in gammas:\n",
    "        for beta in betas:\n",
    "            fname = \"LFR_n\" + str(n) + \"_mu0\" + str(mu) + \"_gamma\" + str(gamma) + \"_beta\" + str(beta)\n",
    "            G = LFR_benchmark_graph(n, (float(gamma) / 10), (float(beta) / 10), (float(mu) / 10), seed=10, min_degree=10, max_degree=50)\n",
    "            m = nx.to_scipy_sparse_array(G)\n",
    "            sp.io.mmwrite(fileprefix + fname + \".mtx\", m)\n",
    "            clust_lst = {frozenset(G.nodes[v][\"community\"]) for v in G}\n",
    "            #nx.write_edgelist(G, fileprefix + name + \".edgelist\", data=False)\n",
    "            write_clust_lst(clust_lst, fileprefix + fname + \".gt\")"
   ]
  },
  {
   "cell_type": "markdown",
   "id": "e08f1d16",
   "metadata": {},
   "source": []
  },
  {
   "cell_type": "code",
   "execution_count": null,
   "id": "c48816f9",
   "metadata": {},
   "outputs": [],
   "source": [
    "algs = [\"infomap\", \"louvain\", \"leiden\", \"cnm\", \"label-prop\", \"markov\", \"walktrap\", \"spinglass\"]\n",
    "n = 1000\n",
    "fileprefix = \"LFR/\" + \"n\" + str(n) + \"/\"\n",
    "mus = [1, 2, 3, 4, 5, 6, 7, 8, 9]\n",
    "gammas = [30]\n",
    "betas = [11]\n",
    "for mu in mus:\n",
    "    for gamma in gammas:\n",
    "        for beta in betas:\n",
    "            fname = \"LFR_n\" + str(n) + \"_mu0\" + str(mu) + \"_gamma\" + str(gamma) + \"_beta\" + str(beta)\n",
    "            graph_file = fileprefix + fname + \".mtx\"\n",
    "            G = None\n",
    "            with open(graph_file) as f:\n",
    "                G = nx.from_scipy_sparse_matrix(spio.mmread(f), create_using=nx.Graph)\n",
    "                #print(len(G.nodes()), len(G.edges()))\n",
    "                comms = None\n",
    "                for alg in algs:\n",
    "                    print(\"Running\", alg, \"on\", graph_file)\n",
    "                    if alg == \"infomap\":\n",
    "                        coms = algorithms.infomap(G)\n",
    "                    elif alg == \"markov\":\n",
    "                        coms = algorithms.markov_clustering(G)\n",
    "                    elif alg == \"louvain\":\n",
    "                        coms = algorithms.louvain(G)\n",
    "                    elif alg == \"leiden\":\n",
    "                        coms = algorithms.leiden(G)\n",
    "                    elif alg == \"label-prop\":\n",
    "                        coms = algorithms.label_propagation(G)\n",
    "                    elif alg == \"cnm\":\n",
    "                        coms = algorithms.greedy_modularity(G)\n",
    "                    elif alg == \"walktrap\":\n",
    "                        coms = algorithms.walktrap(G)\n",
    "                    elif alg == \"spinglass\":\n",
    "                        coms = algorithms.spinglass(G)\n",
    "                    print(mu, alg, len(coms.communities))\n",
    "            #nx.write_edgelist(G, fileprefix + name + \".edgelist\", data=False)\n",
    "            #write_clust_lst(clust_lst, fileprefix + fname + \".gt\")"
   ]
  },
  {
   "cell_type": "code",
   "execution_count": null,
   "id": "71cf6217",
   "metadata": {},
   "outputs": [],
   "source": []
  }
 ],
 "metadata": {
  "kernelspec": {
   "display_name": "Python 3 (ipykernel)",
   "language": "python",
   "name": "python3"
  },
  "language_info": {
   "codemirror_mode": {
    "name": "ipython",
    "version": 3
   },
   "file_extension": ".py",
   "mimetype": "text/x-python",
   "name": "python",
   "nbconvert_exporter": "python",
   "pygments_lexer": "ipython3",
   "version": "3.11.3"
  }
 },
 "nbformat": 4,
 "nbformat_minor": 5
}
